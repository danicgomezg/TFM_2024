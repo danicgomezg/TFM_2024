{
  "cells": [
    {
      "cell_type": "code",
      "execution_count": null,
      "metadata": {
        "colab": {
          "base_uri": "https://localhost:8080/"
        },
        "id": "FEIDfhTKVnwe",
        "outputId": "d1a849e2-8a8d-4e91-82a2-7bec4f3b9b1a"
      },
      "outputs": [
        {
          "name": "stdout",
          "output_type": "stream",
          "text": [
            "   Evento_Id Fecha_Evento  Ambito_Id Descripcion_Ambito Numero_Poliza  \\\n",
            "0        251   2028-08-19        3.0           URGENCIA           NaN   \n",
            "1        251   2028-08-19        3.0           URGENCIA           NaN   \n",
            "2        251   2028-08-19        3.0           URGENCIA           NaN   \n",
            "3        251   2028-08-19        3.0           URGENCIA           NaN   \n",
            "4        251   2028-08-19        3.0           URGENCIA           NaN   \n",
            "\n",
            "  Vencimiento_Poliza  Atencion_Prestada_Id Descripcion_Atencion_Prestada  \\\n",
            "0                NaN                   1.0                       NINGUNO   \n",
            "1                NaN                   1.0                       NINGUNO   \n",
            "2                NaN                   1.0                       NINGUNO   \n",
            "3                NaN                   1.0                       NINGUNO   \n",
            "4                NaN                   1.0                       NINGUNO   \n",
            "\n",
            "   Salida_Id Salida_Descripcion  ...        Ciudad Marca_Vehiculo  \\\n",
            "0        1.0               Alta  ...  BARRANQUILLA        reanaul   \n",
            "1        1.0               Alta  ...  BARRANQUILLA        reanaul   \n",
            "2        1.0               Alta  ...  BARRANQUILLA        reanaul   \n",
            "3        2.0           Traslado  ...  BARRANQUILLA        reanaul   \n",
            "4        2.0           Traslado  ...  BARRANQUILLA        reanaul   \n",
            "\n",
            "  Estado_Vehiculo_Descripcion  Tipo_Vehiculo_Id Tipo_Vehiculo_Descripcion  \\\n",
            "0                   Asegurado               1.0                Particular   \n",
            "1                   Asegurado               1.0                Particular   \n",
            "2                   Asegurado               1.0                Particular   \n",
            "3                   Asegurado               1.0                Particular   \n",
            "4                   Asegurado               1.0                Particular   \n",
            "\n",
            "  Tipo_Vehiculo Condicion_Accidentado_Id  Condicion_Accidentado_Descripcion  \\\n",
            "0     Automovil                      1.0                           Ocupante   \n",
            "1     Automovil                      1.0                           Ocupante   \n",
            "2     Automovil                      1.0                           Ocupante   \n",
            "3     Automovil                      1.0                           Ocupante   \n",
            "4     Automovil                      1.0                           Ocupante   \n",
            "\n",
            "                     Categoria_Descripcion_Eje10 Fraude  \n",
            "0  ACCIDENTE DE TIPO DE VEHICULO NO ESPECIFICADO     NO  \n",
            "1           TRAUMATISMO SUPERFICIAL DE LA PIERNA     NO  \n",
            "2                                         COLERA     NO  \n",
            "3  ACCIDENTE DE TIPO DE VEHICULO NO ESPECIFICADO     NO  \n",
            "4           TRAUMATISMO SUPERFICIAL DE LA PIERNA     NO  \n",
            "\n",
            "[5 rows x 24 columns]\n"
          ]
        }
      ],
      "source": [
        "import pandas as pd\n",
        "\n",
        "# Ruta del archivo CSV en Google Colab\n",
        "ruta_archivo = '/content/Base_Fraude.csv'\n",
        "\n",
        "# Cargar la base de datos desde el archivo CSV con motor 'python'\n",
        "try:\n",
        "    base_de_datos = pd.read_csv(ruta_archivo, delimiter=';', engine='python')\n",
        "    # Muestra las primeras filas de la base de datos para verificar la carga\n",
        "    print(base_de_datos.head())\n",
        "except pd.errors.ParserError as e:\n",
        "    print(f\"Error al cargar el archivo CSV: {e}\")\n",
        "\n"
      ]
    },
    {
      "cell_type": "code",
      "execution_count": null,
      "metadata": {
        "colab": {
          "base_uri": "https://localhost:8080/"
        },
        "id": "Ml4kRacgVsEC",
        "outputId": "3bbd3271-6c4f-4909-ac42-69fd3ea7654b"
      },
      "outputs": [
        {
          "name": "stdout",
          "output_type": "stream",
          "text": [
            "Valores nulos por columna:\n",
            "Evento_Id                                0\n",
            "Fecha_Evento                             0\n",
            "Ambito_Id                               10\n",
            "Descripcion_Ambito                   22524\n",
            "Numero_Poliza                        14136\n",
            "Vencimiento_Poliza                   14177\n",
            "Atencion_Prestada_Id                 15690\n",
            "Descripcion_Atencion_Prestada        15690\n",
            "Salida_Id                            26677\n",
            "Salida_Descripcion                   26677\n",
            "Area_Rural_Id                        16424\n",
            "Descripcion_Area_Rural               16424\n",
            "Furips_Descripcion                   16443\n",
            "Ciudad_Id                            16424\n",
            "Ciudad                               16424\n",
            "Marca_Vehiculo                       16848\n",
            "Estado_Vehiculo_Descripcion          16424\n",
            "Tipo_Vehiculo_Id                     16836\n",
            "Tipo_Vehiculo_Descripcion            16829\n",
            "Tipo_Vehiculo                            0\n",
            "Condicion_Accidentado_Id             16424\n",
            "Condicion_Accidentado_Descripcion    16424\n",
            "Categoria_Descripcion_Eje10            181\n",
            "Fraude                                   0\n",
            "dtype: int64\n"
          ]
        }
      ],
      "source": [
        "# Contar valores nulos en cada columna\n",
        "valores_nulos_por_columna = base_de_datos.isnull().sum()\n",
        "\n",
        "# Mostrar el resultado\n",
        "print(\"Valores nulos por columna:\")\n",
        "print(valores_nulos_por_columna)\n"
      ]
    },
    {
      "cell_type": "code",
      "execution_count": null,
      "metadata": {
        "colab": {
          "base_uri": "https://localhost:8080/"
        },
        "id": "iqzIldQfX8uH",
        "outputId": "9c0b4e24-9b94-4638-913e-9eeb5e6a8d4b"
      },
      "outputs": [
        {
          "name": "stdout",
          "output_type": "stream",
          "text": [
            "Número de filas después de eliminar los valores nulos: 115\n"
          ]
        }
      ],
      "source": [
        "# Eliminar filas con valores nulos\n",
        "base_de_datos_sin_nulos = base_de_datos.dropna()\n",
        "\n",
        "# Mostrar la cantidad de filas después de eliminar los valores nulos\n",
        "print(\"Número de filas después de eliminar los valores nulos:\", len(base_de_datos_sin_nulos))"
      ]
    },
    {
      "cell_type": "code",
      "execution_count": null,
      "metadata": {
        "id": "4qRbR1jTbjqW"
      },
      "outputs": [],
      "source": [
        "# Selección de columnas con menos valores nulos solapados\n",
        "columnas_deseadas = [ 'Descripcion_Area_Rural', 'Furips_Descripcion', 'Ciudad', 'Marca_Vehiculo', 'Estado_Vehiculo_Descripcion',\n",
        "                      'Tipo_Vehiculo_Descripcion', 'Tipo_Vehiculo', 'Condicion_Accidentado_Descripcion',\n",
        "                      'Categoria_Descripcion_Eje10', 'Fraude']\n",
        "\n",
        "nuevo_dataset = base_de_datos[columnas_deseadas].copy()"
      ]
    },
    {
      "cell_type": "code",
      "execution_count": null,
      "metadata": {
        "colab": {
          "base_uri": "https://localhost:8080/"
        },
        "id": "aJ0iR0i3cS9L",
        "outputId": "3389af81-e3e5-4f8d-f277-3f2870b7460d"
      },
      "outputs": [
        {
          "name": "stdout",
          "output_type": "stream",
          "text": [
            "Número de filas después de eliminar los valores nulos: 15773\n"
          ]
        }
      ],
      "source": [
        "# Eliminar filas con valores nulos\n",
        "base_de_datos_1 = nuevo_dataset.dropna()\n",
        "\n",
        "# Mostrar la cantidad de filas después de eliminar los valores nulos\n",
        "print(\"Número de filas después de eliminar los valores nulos:\", len(base_de_datos_1))"
      ]
    },
    {
      "cell_type": "code",
      "execution_count": null,
      "metadata": {
        "colab": {
          "base_uri": "https://localhost:8080/"
        },
        "id": "uLeJ_-h9epOE",
        "outputId": "2fc65944-9ee1-4f4e-a74f-898bcf3d9c55"
      },
      "outputs": [
        {
          "name": "stdout",
          "output_type": "stream",
          "text": [
            "Tipo de variable de cada columna en el nuevo dataset:\n",
            "Descripcion_Area_Rural               object\n",
            "Furips_Descripcion                   object\n",
            "Ciudad                               object\n",
            "Marca_Vehiculo                       object\n",
            "Estado_Vehiculo_Descripcion          object\n",
            "Tipo_Vehiculo_Descripcion            object\n",
            "Tipo_Vehiculo                        object\n",
            "Condicion_Accidentado_Descripcion    object\n",
            "Categoria_Descripcion_Eje10          object\n",
            "Fraude                               object\n",
            "dtype: object\n"
          ]
        }
      ],
      "source": [
        "# Mostrar el tipo de variable de cada columna en el nuevo dataset\n",
        "tipos_de_variable = base_de_datos_1.dtypes\n",
        "\n",
        "# Mostrar el resultado\n",
        "print(\"Tipo de variable de cada columna en el nuevo dataset:\")\n",
        "print(tipos_de_variable)"
      ]
    },
    {
      "cell_type": "code",
      "execution_count": null,
      "metadata": {
        "colab": {
          "base_uri": "https://localhost:8080/"
        },
        "id": "8e1e5DAzWYNv",
        "outputId": "007ba0ad-5179-467c-9b32-54a0200ed8f6"
      },
      "outputs": [
        {
          "name": "stdout",
          "output_type": "stream",
          "text": [
            "Series([], Name: Furips_Descripcion, dtype: object)\n"
          ]
        }
      ],
      "source": [
        "# Mostrar filas seleccionadad  de la columna 'Categoria_Descripcion_Eje10'\n",
        "primeras_tres_filas = base_de_datos_1.loc[1500:1501,'Furips_Descripcion']\n",
        "print(primeras_tres_filas)"
      ]
    },
    {
      "cell_type": "code",
      "execution_count": null,
      "metadata": {
        "colab": {
          "base_uri": "https://localhost:8080/"
        },
        "id": "5XKY-2x7nx0E",
        "outputId": "46f05eef-10f4-44d2-d6e5-ae08f13a99e0"
      },
      "outputs": [
        {
          "name": "stdout",
          "output_type": "stream",
          "text": [
            "Filas con 'si' en la variable 'Fraude': 2100\n",
            "Filas con 'no' en la variable 'Fraude': 13673\n"
          ]
        },
        {
          "name": "stderr",
          "output_type": "stream",
          "text": [
            "<ipython-input-8-b127987dd05d>:3: SettingWithCopyWarning: \n",
            "A value is trying to be set on a copy of a slice from a DataFrame.\n",
            "Try using .loc[row_indexer,col_indexer] = value instead\n",
            "\n",
            "See the caveats in the documentation: https://pandas.pydata.org/pandas-docs/stable/user_guide/indexing.html#returning-a-view-versus-a-copy\n",
            "  base_de_datos_1['Fraude'] = base_de_datos_1['Fraude'].str.lower().str.strip()\n"
          ]
        }
      ],
      "source": [
        "# Verificación de desequilibrio entre clases\n",
        "# Convertir la columna \"Fraude\" a minúsculas y quitar espacios en blanco adicionales\n",
        "base_de_datos_1['Fraude'] = base_de_datos_1['Fraude'].str.lower().str.strip()\n",
        "\n",
        "# Contar las filas con el valor \"si\" en la columna \"Fraude\"\n",
        "filas_con_fraude_si = base_de_datos_1[base_de_datos_1['Fraude'] == 'si'].shape[0]\n",
        "\n",
        "# Contar las filas con el valor \"no\" en la columna \"Fraude\"\n",
        "filas_con_fraude_no = base_de_datos_1[base_de_datos_1['Fraude'] == 'no'].shape[0]\n",
        "\n",
        "# Mostrar los resultados\n",
        "print(f\"Filas con 'si' en la variable 'Fraude': {filas_con_fraude_si}\")\n",
        "print(f\"Filas con 'no' en la variable 'Fraude': {filas_con_fraude_no}\")\n"
      ]
    }
  ],
  "metadata": {
    "colab": {
      "provenance": []
    },
    "kernelspec": {
      "display_name": "Python 3",
      "name": "python3"
    },
    "language_info": {
      "name": "python"
    }
  },
  "nbformat": 4,
  "nbformat_minor": 0
}