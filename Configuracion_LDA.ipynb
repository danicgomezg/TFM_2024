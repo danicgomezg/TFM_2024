{
  "nbformat": 4,
  "nbformat_minor": 0,
  "metadata": {
    "colab": {
      "provenance": []
    },
    "kernelspec": {
      "name": "python3",
      "display_name": "Python 3"
    },
    "language_info": {
      "name": "python"
    }
  },
  "cells": [
    {
      "cell_type": "code",
      "execution_count": null,
      "metadata": {
        "colab": {
          "base_uri": "https://localhost:8080/"
        },
        "id": "0Fj-g2hhR8Jw",
        "outputId": "e8256d5a-4b63-4a01-d8b4-bf4bb3db5430"
      },
      "outputs": [
        {
          "output_type": "stream",
          "name": "stdout",
          "text": [
            "   Unnamed: 0 Descripcion_Area_Rural   Furips_Descripcion        Ciudad  \\\n",
            "0           0                  RURAL  se estrelló de novi  BARRANQUILLA   \n",
            "1           1                  RURAL  se estrelló de novi  BARRANQUILLA   \n",
            "2           2                  RURAL  se estrelló de novi  BARRANQUILLA   \n",
            "3           3                  RURAL  se estrelló de novi  BARRANQUILLA   \n",
            "4           4                  RURAL  se estrelló de novi  BARRANQUILLA   \n",
            "\n",
            "  Marca_Vehiculo Estado_Vehiculo_Descripcion Tipo_Vehiculo_Descripcion  \\\n",
            "0        reanaul                   Asegurado                Particular   \n",
            "1        reanaul                   Asegurado                Particular   \n",
            "2        reanaul                   Asegurado                Particular   \n",
            "3        reanaul                   Asegurado                Particular   \n",
            "4        reanaul                   Asegurado                Particular   \n",
            "\n",
            "  Tipo_Vehiculo Condicion_Accidentado_Descripcion  \\\n",
            "0     Automovil                          Ocupante   \n",
            "1     Automovil                          Ocupante   \n",
            "2     Automovil                          Ocupante   \n",
            "3     Automovil                          Ocupante   \n",
            "4     Automovil                          Ocupante   \n",
            "\n",
            "                     Categoria_Descripcion_Eje10 Fraude  \n",
            "0  ACCIDENTE DE TIPO DE VEHICULO NO ESPECIFICADO     NO  \n",
            "1           TRAUMATISMO SUPERFICIAL DE LA PIERNA     NO  \n",
            "2                                         COLERA     NO  \n",
            "3  ACCIDENTE DE TIPO DE VEHICULO NO ESPECIFICADO     NO  \n",
            "4           TRAUMATISMO SUPERFICIAL DE LA PIERNA     NO  \n"
          ]
        }
      ],
      "source": [
        "import pandas as pd\n",
        "from sklearn.model_selection import train_test_split\n",
        "\n",
        "# Cargar la base de datos archivo CSV.'\n",
        "df = pd.read_csv('/content/datos.csv', delimiter=';')\n",
        "\n",
        "# Verificación y limpieza básica de datos\n",
        "# Aquí puedes añadir pasos para tratar valores faltantes o corregir errores\n",
        "print(df.head())"
      ]
    },
    {
      "cell_type": "code",
      "source": [
        "import pandas as pd\n",
        "import numpy as np\n",
        "import gensim\n",
        "from gensim.utils import simple_preprocess\n",
        "from gensim.parsing.preprocessing import STOPWORDS\n",
        "from gensim.models import Phrases\n",
        "from gensim import corpora, models\n",
        "from nltk.stem import WordNetLemmatizer\n",
        "from nltk.corpus import wordnet\n",
        "import nltk\n",
        "\n",
        "nltk.download('wordnet')\n",
        "\n",
        "# Preprocesamiento de texto  para LDA\n",
        "def preprocess_text(text):\n",
        "    result = []\n",
        "    lemmatizer = WordNetLemmatizer()\n",
        "    for token in simple_preprocess(text):\n",
        "        if token not in STOPWORDS and len(token) > 3:\n",
        "            # Lematización con POS Tag (simplificado)\n",
        "            lemma = lemmatizer.lemmatize(token, pos=\"v\")\n",
        "            result.append(lemma)\n",
        "    return result\n",
        "\n",
        "# Columnas de interés\n",
        "df['text_for_lda'] = df['Furips_Descripcion'].astype(str) + ' ' + df['Categoria_Descripcion_Eje10'].astype(str)\n",
        "documents = df['text_for_lda'].map(preprocess_text)\n",
        "\n",
        "dictionary = corpora.Dictionary(documents)\n",
        "corpus = [dictionary.doc2bow(text) for text in documents]\n",
        "\n",
        "# Configuración de hiperparámetros\n",
        "num_topics = 44 # Ajuste basado en pruebas anteriores o criterio\n",
        "alpha = 'asymmetric'  # Permite variabilidad en la distribución de temas por documentos\n",
        "beta = 0.01  # Baja para concentrar palabras por tema\n",
        "\n",
        "lda_model = gensim.models.LdaMulticore(corpus, num_topics=num_topics, id2word=dictionary, passes=40, workers=2, alpha=alpha, eta=beta)\n",
        "\n",
        "# Convertir los documentos a vectores de temas usando el modelo LDA ajustado\n",
        "ldafeatures = [lda_model[doc] for doc in corpus]\n",
        "lda_features_matrix = np.array([[dict(doc).get(i, 0) for i in range(num_topics)] for doc in ldafeatures])\n",
        "\n",
        "\n"
      ],
      "metadata": {
        "colab": {
          "base_uri": "https://localhost:8080/"
        },
        "id": "OCF1N8CTVu69",
        "outputId": "dc0c9f09-48d7-4012-df39-f1c676b8716e"
      },
      "execution_count": null,
      "outputs": [
        {
          "output_type": "stream",
          "name": "stderr",
          "text": [
            "[nltk_data] Downloading package wordnet to /root/nltk_data...\n",
            "[nltk_data]   Package wordnet is already up-to-date!\n"
          ]
        }
      ]
    },
    {
      "cell_type": "code",
      "source": [
        "!pip install pyldavis\n",
        "!pip install pandas\n",
        "\n",
        "\n",
        "from gensim.models import CoherenceModel\n",
        "import matplotlib.pyplot as plt\n",
        "import pyLDAvis.gensim_models\n",
        "import pickle\n",
        "import pyLDAvis\n",
        "\n",
        "\n",
        "topics = lda_model.show_topics(formatted=False, num_topics=30)\n",
        "\n",
        "# Aquí, 'processed_docs' debe ser la lista de documentos después de todo el preprocesamiento.\n",
        "coherence_model_lda = CoherenceModel(model=lda_model,  dictionary=dictionary, coherence='c_v')\n",
        "coherence_lda = coherence_model_lda.get_coherence()\n",
        "print('\\nCoherencia de los temas (C_V):', coherence_lda)\n",
        "\n",
        "# Busqueda de métricas\n",
        "coherence_model_lda_umass = CoherenceModel(model=lda_model, corpus=corpus, dictionary=dictionary, coherence='u_mass')\n",
        "coherence_lda_umass = coherence_model_lda_umass.get_coherence()\n",
        "print('Coherencia de los temas (U_Mass):', coherence_lda_umass)\n",
        "\n",
        "# Visualizar los temas\n",
        "for topic_num, topic_words in topics[:15]:  # Limitar a 10 temas para simplificar\n",
        "    print('\\nTopic:', topic_num)\n",
        "    print('Words:', [word for word, _ in topic_words])\n",
        "\n",
        "# Visualización interactiva con pyLDAvis\n",
        "pyLDAvis.enable_notebook()\n",
        "LDAvis_prepared = pyLDAvis.gensim_models.prepare(lda_model, corpus, dictionary)\n",
        "pyLDAvis.display(LDAvis_prepared)\n",
        "\n",
        "# Visualizar la distribución de temas en documentos seleccionados\n",
        "for i in range(15):  # Mejorado para mostrar 15 documentos\n",
        "    doc_topics = lda_model.get_document_topics(corpus[i], minimum_probability=0.0)\n",
        "    topic_probs = {topic: round(prob, 4) for topic, prob in doc_topics}\n",
        "    print('\\nDocumento', i, 'Distribución de Temas:', topic_probs)\n",
        "\n"
      ],
      "metadata": {
        "colab": {
          "base_uri": "https://localhost:8080/"
        },
        "id": "UhqbyxuOWf2f",
        "outputId": "75ef73fe-79f3-40ab-a581-24798a956b6b"
      },
      "execution_count": null,
      "outputs": [
        {
          "output_type": "stream",
          "name": "stdout",
          "text": [
            "Requirement already satisfied: pyldavis in /usr/local/lib/python3.10/dist-packages (3.4.1)\n",
            "Requirement already satisfied: numpy>=1.24.2 in /usr/local/lib/python3.10/dist-packages (from pyldavis) (1.25.2)\n",
            "Requirement already satisfied: scipy in /usr/local/lib/python3.10/dist-packages (from pyldavis) (1.11.4)\n",
            "Requirement already satisfied: pandas>=2.0.0 in /usr/local/lib/python3.10/dist-packages (from pyldavis) (2.2.0)\n",
            "Requirement already satisfied: joblib>=1.2.0 in /usr/local/lib/python3.10/dist-packages (from pyldavis) (1.3.2)\n",
            "Requirement already satisfied: jinja2 in /usr/local/lib/python3.10/dist-packages (from pyldavis) (3.1.3)\n",
            "Requirement already satisfied: numexpr in /usr/local/lib/python3.10/dist-packages (from pyldavis) (2.9.0)\n",
            "Requirement already satisfied: funcy in /usr/local/lib/python3.10/dist-packages (from pyldavis) (2.0)\n",
            "Requirement already satisfied: scikit-learn>=1.0.0 in /usr/local/lib/python3.10/dist-packages (from pyldavis) (1.2.2)\n",
            "Requirement already satisfied: gensim in /usr/local/lib/python3.10/dist-packages (from pyldavis) (4.3.2)\n",
            "Requirement already satisfied: setuptools in /usr/local/lib/python3.10/dist-packages (from pyldavis) (67.7.2)\n",
            "Requirement already satisfied: python-dateutil>=2.8.2 in /usr/local/lib/python3.10/dist-packages (from pandas>=2.0.0->pyldavis) (2.8.2)\n",
            "Requirement already satisfied: pytz>=2020.1 in /usr/local/lib/python3.10/dist-packages (from pandas>=2.0.0->pyldavis) (2023.4)\n",
            "Requirement already satisfied: tzdata>=2022.7 in /usr/local/lib/python3.10/dist-packages (from pandas>=2.0.0->pyldavis) (2024.1)\n",
            "Requirement already satisfied: threadpoolctl>=2.0.0 in /usr/local/lib/python3.10/dist-packages (from scikit-learn>=1.0.0->pyldavis) (3.2.0)\n",
            "Requirement already satisfied: smart-open>=1.8.1 in /usr/local/lib/python3.10/dist-packages (from gensim->pyldavis) (6.4.0)\n",
            "Requirement already satisfied: MarkupSafe>=2.0 in /usr/local/lib/python3.10/dist-packages (from jinja2->pyldavis) (2.1.5)\n",
            "Requirement already satisfied: six>=1.5 in /usr/local/lib/python3.10/dist-packages (from python-dateutil>=2.8.2->pandas>=2.0.0->pyldavis) (1.16.0)\n",
            "Requirement already satisfied: pandas in /usr/local/lib/python3.10/dist-packages (2.2.0)\n",
            "Requirement already satisfied: numpy<2,>=1.22.4 in /usr/local/lib/python3.10/dist-packages (from pandas) (1.25.2)\n",
            "Requirement already satisfied: python-dateutil>=2.8.2 in /usr/local/lib/python3.10/dist-packages (from pandas) (2.8.2)\n",
            "Requirement already satisfied: pytz>=2020.1 in /usr/local/lib/python3.10/dist-packages (from pandas) (2023.4)\n",
            "Requirement already satisfied: tzdata>=2022.7 in /usr/local/lib/python3.10/dist-packages (from pandas) (2024.1)\n",
            "Requirement already satisfied: six>=1.5 in /usr/local/lib/python3.10/dist-packages (from python-dateutil>=2.8.2->pandas) (1.16.0)\n",
            "\n",
            "Coherencia de los temas (C_V): 0.33496690840412774\n",
            "Coherencia de los temas (U_Mass): -4.391272182815057\n",
            "\n",
            "Topic: 43\n",
            "Words: ['placa', 'resultando', 'cayendo', 'movilizaba', 'publica', 'pavimento', 'inesperadamente', 'cuando', 'curva', 'traumatismo']\n",
            "\n",
            "Topic: 42\n",
            "Words: ['conductora', 'lesionada', 'motocicleta', 'placas', 'resulta', 'cuando', 'pavimento', 'publica', 'colisionada', 'inesperadamente']\n",
            "\n",
            "Topic: 41\n",
            "Words: ['quien', 'conductor', 'motocicleta', 'movilizaba', 'cayendo', 'resultando', 'publica', 'pavimento', 'traumatismo', 'lesionado']\n",
            "\n",
            "Topic: 40\n",
            "Words: ['desplazaba', 'resulta', 'publica', 'motocicleta', 'placas', 'cuando', 'inesperadamente', 'conductor', 'traumatismo', 'lesionado']\n",
            "\n",
            "Topic: 39\n",
            "Words: ['otros', 'especificados', 'traumatismos', 'lesionado', 'torax', 'transporte', 'accidentes', 'pavimento', 'inesperadamente', 'motociclista']\n",
            "\n",
            "Topic: 38\n",
            "Words: ['sufre', 'falla', 'mecanica', 'llanta', 'sufrir', 'fallas', 'golpea', 'microsueño', 'bordillo', 'tropieza']\n",
            "\n",
            "Topic: 37\n",
            "Words: ['publica', 'motocicleta', 'cuando', 'placas', 'desplazaba', 'colisionando', 'inesperadamente', 'pavimento', 'lesionado', 'traumatismo']\n",
            "\n",
            "Topic: 36\n",
            "Words: ['para', 'colisionar', 'automovil', 'anden', 'resulta', 'leisonado', 'muro', 'esquivar', 'conductor', 'motocarro']\n",
            "\n",
            "Topic: 35\n",
            "Words: ['paciente', 'calidad', 'parrillero', 'desplazaba', 'placas', 'motocicleta', 'resulta', 'publica', 'inesperadamente', 'cuando']\n",
            "\n",
            "Topic: 34\n",
            "Words: ['parrillera', 'lesionada', 'motocicleta', 'publica', 'placas', 'cuando', 'pavimento', 'inesperadamente', 'traumatismo', 'resultando']\n",
            "\n",
            "Topic: 33\n",
            "Words: ['perro', 'animal', 'cruza', 'arrollar', 'pierna', 'lesionado', 'cuando', 'pavimen', 'conductor', 'pierda']\n",
            "\n",
            "Topic: 32\n",
            "Words: ['control', 'motocicleta', 'placas', 'pavimento', 'publica', 'cuando', 'inesperadamente', 'desplazaba', 'lesionado', 'conductor']\n",
            "\n",
            "Topic: 31\n",
            "Words: ['colisionado', 'lesionado', 'publica', 'inesperadamente', 'semaforo', 'conductor', 'herida', 'caer', 'desnivel', 'movilizaba']\n",
            "\n",
            "Topic: 30\n",
            "Words: ['placa', 'motocicleta', 'movilizaba', 'pública', 'cayendo', 'conductor', 'traumatismo', 'inesperadamente', 'resultando', 'pavimento']\n",
            "\n",
            "Topic: 29\n",
            "Words: ['cuerpo', 'regiones', 'multiples', 'traumatismos', 'afectan', 'resbalando', 'aplastamiento', 'perder', 'reductor', 'velocidad']\n",
            "\n",
            "Documento 0 Distribución de Temas: {0: 0.012, 1: 0.0104, 2: 0.0092, 3: 0.0082, 4: 0.0075, 5: 0.0068, 6: 0.0063, 7: 0.0058, 8: 0.0054, 9: 0.0051, 10: 0.0048, 11: 0.0045, 12: 0.0043, 13: 0.004, 14: 0.0038, 15: 0.0037, 16: 0.0035, 17: 0.0034, 18: 0.0032, 19: 0.0031, 20: 0.003, 21: 0.0029, 22: 0.0028, 23: 0.0027, 24: 0.0026, 25: 0.8358, 26: 0.0024, 27: 0.0024, 28: 0.0023, 29: 0.0022, 30: 0.0022, 31: 0.0021, 32: 0.0021, 33: 0.002, 34: 0.002, 35: 0.0019, 36: 0.0019, 37: 0.0018, 38: 0.0018, 39: 0.0017, 40: 0.0017, 41: 0.0017, 42: 0.0016, 43: 0.0016}\n",
            "\n",
            "Documento 1 Distribución de Temas: {0: 0.5299, 1: 0.0125, 2: 0.011, 3: 0.0099, 4: 0.009, 5: 0.0082, 6: 0.0075, 7: 0.007, 8: 0.0065, 9: 0.0061, 10: 0.0057, 11: 0.0054, 12: 0.0051, 13: 0.0049, 14: 0.0046, 15: 0.0044, 16: 0.0042, 17: 0.004, 18: 0.0039, 19: 0.0037, 20: 0.0036, 21: 0.0034, 22: 0.0033, 23: 0.0032, 24: 0.0031, 25: 0.003, 26: 0.0029, 27: 0.0028, 28: 0.0028, 29: 0.0027, 30: 0.0026, 31: 0.0025, 32: 0.0025, 33: 0.0024, 34: 0.2868, 35: 0.0023, 36: 0.0022, 37: 0.0022, 38: 0.0021, 39: 0.0021, 40: 0.002, 41: 0.002, 42: 0.002, 43: 0.0019}\n",
            "\n",
            "Documento 2 Distribución de Temas: {0: 0.6905, 1: 0.0208, 2: 0.0184, 3: 0.0165, 4: 0.0149, 5: 0.0136, 6: 0.0126, 7: 0.0116, 8: 0.0109, 9: 0.0102, 10: 0.0095, 11: 0.009, 12: 0.0085, 13: 0.0081, 14: 0.0077, 15: 0.0073, 16: 0.007, 17: 0.0067, 18: 0.0064, 19: 0.0062, 20: 0.006, 21: 0.0057, 22: 0.0055, 23: 0.0054, 24: 0.0052, 25: 0.005, 26: 0.0049, 27: 0.0047, 28: 0.0046, 29: 0.0045, 30: 0.0043, 31: 0.0042, 32: 0.0041, 33: 0.004, 34: 0.0039, 35: 0.0038, 36: 0.0037, 37: 0.0036, 38: 0.0036, 39: 0.0035, 40: 0.0034, 41: 0.0033, 42: 0.0033, 43: 0.0032}\n",
            "\n",
            "Documento 3 Distribución de Temas: {0: 0.012, 1: 0.0104, 2: 0.0092, 3: 0.0082, 4: 0.0075, 5: 0.0068, 6: 0.0063, 7: 0.0058, 8: 0.0054, 9: 0.0051, 10: 0.0048, 11: 0.0045, 12: 0.0043, 13: 0.004, 14: 0.0038, 15: 0.0037, 16: 0.0035, 17: 0.0034, 18: 0.0032, 19: 0.0031, 20: 0.003, 21: 0.0029, 22: 0.0028, 23: 0.0027, 24: 0.0026, 25: 0.8358, 26: 0.0024, 27: 0.0024, 28: 0.0023, 29: 0.0022, 30: 0.0022, 31: 0.0021, 32: 0.0021, 33: 0.002, 34: 0.002, 35: 0.0019, 36: 0.0019, 37: 0.0018, 38: 0.0018, 39: 0.0017, 40: 0.0017, 41: 0.0017, 42: 0.0016, 43: 0.0016}\n",
            "\n",
            "Documento 4 Distribución de Temas: {0: 0.5137, 1: 0.0125, 2: 0.3117, 3: 0.0099, 4: 0.009, 5: 0.0082, 6: 0.0075, 7: 0.007, 8: 0.0065, 9: 0.0061, 10: 0.0057, 11: 0.0054, 12: 0.0051, 13: 0.0049, 14: 0.0046, 15: 0.0044, 16: 0.0042, 17: 0.004, 18: 0.0039, 19: 0.0037, 20: 0.0036, 21: 0.0034, 22: 0.0033, 23: 0.0032, 24: 0.0031, 25: 0.003, 26: 0.0029, 27: 0.0028, 28: 0.0028, 29: 0.0027, 30: 0.0026, 31: 0.0025, 32: 0.0025, 33: 0.0024, 34: 0.0023, 35: 0.0023, 36: 0.0022, 37: 0.0022, 38: 0.0021, 39: 0.0021, 40: 0.002, 41: 0.002, 42: 0.002, 43: 0.0019}\n",
            "\n",
            "Documento 5 Distribución de Temas: {0: 0.6905, 1: 0.0208, 2: 0.0184, 3: 0.0165, 4: 0.0149, 5: 0.0136, 6: 0.0126, 7: 0.0116, 8: 0.0109, 9: 0.0102, 10: 0.0095, 11: 0.009, 12: 0.0085, 13: 0.0081, 14: 0.0077, 15: 0.0073, 16: 0.007, 17: 0.0067, 18: 0.0064, 19: 0.0062, 20: 0.006, 21: 0.0057, 22: 0.0055, 23: 0.0054, 24: 0.0052, 25: 0.005, 26: 0.0049, 27: 0.0047, 28: 0.0046, 29: 0.0045, 30: 0.0043, 31: 0.0042, 32: 0.0041, 33: 0.004, 34: 0.0039, 35: 0.0038, 36: 0.0037, 37: 0.0036, 38: 0.0036, 39: 0.0035, 40: 0.0034, 41: 0.0033, 42: 0.0033, 43: 0.0032}\n",
            "\n",
            "Documento 6 Distribución de Temas: {0: 0.012, 1: 0.0104, 2: 0.0092, 3: 0.0082, 4: 0.0075, 5: 0.0068, 6: 0.0063, 7: 0.0058, 8: 0.0054, 9: 0.0051, 10: 0.0048, 11: 0.0045, 12: 0.0043, 13: 0.004, 14: 0.0038, 15: 0.0037, 16: 0.0035, 17: 0.0034, 18: 0.0032, 19: 0.0031, 20: 0.003, 21: 0.0029, 22: 0.0028, 23: 0.0027, 24: 0.0026, 25: 0.8358, 26: 0.0024, 27: 0.0024, 28: 0.0023, 29: 0.0022, 30: 0.0022, 31: 0.0021, 32: 0.0021, 33: 0.002, 34: 0.002, 35: 0.0019, 36: 0.0019, 37: 0.0018, 38: 0.0018, 39: 0.0017, 40: 0.0017, 41: 0.0017, 42: 0.0016, 43: 0.0016}\n",
            "\n",
            "Documento 7 Distribución de Temas: {0: 0.5167, 1: 0.0125, 2: 0.011, 3: 0.0099, 4: 0.009, 5: 0.0082, 6: 0.0075, 7: 0.007, 8: 0.0065, 9: 0.0061, 10: 0.0057, 11: 0.303, 12: 0.0051, 13: 0.0049, 14: 0.0046, 15: 0.0044, 16: 0.0042, 17: 0.004, 18: 0.0039, 19: 0.0037, 20: 0.0036, 21: 0.0034, 22: 0.0033, 23: 0.0032, 24: 0.0031, 25: 0.003, 26: 0.0029, 27: 0.0028, 28: 0.0028, 29: 0.0027, 30: 0.0026, 31: 0.0025, 32: 0.0025, 33: 0.0024, 34: 0.0023, 35: 0.0023, 36: 0.0022, 37: 0.0022, 38: 0.0021, 39: 0.0021, 40: 0.002, 41: 0.002, 42: 0.002, 43: 0.0019}\n",
            "\n",
            "Documento 8 Distribución de Temas: {0: 0.6905, 1: 0.0208, 2: 0.0184, 3: 0.0165, 4: 0.0149, 5: 0.0136, 6: 0.0126, 7: 0.0116, 8: 0.0109, 9: 0.0102, 10: 0.0095, 11: 0.009, 12: 0.0085, 13: 0.0081, 14: 0.0077, 15: 0.0073, 16: 0.007, 17: 0.0067, 18: 0.0064, 19: 0.0062, 20: 0.006, 21: 0.0057, 22: 0.0055, 23: 0.0054, 24: 0.0052, 25: 0.005, 26: 0.0049, 27: 0.0047, 28: 0.0046, 29: 0.0045, 30: 0.0043, 31: 0.0042, 32: 0.0041, 33: 0.004, 34: 0.0039, 35: 0.0038, 36: 0.0037, 37: 0.0036, 38: 0.0036, 39: 0.0035, 40: 0.0034, 41: 0.0033, 42: 0.0033, 43: 0.0032}\n",
            "\n",
            "Documento 9 Distribución de Temas: {0: 0.004, 1: 0.0035, 2: 0.0031, 3: 0.0027, 4: 0.0025, 5: 0.0023, 6: 0.0021, 7: 0.0019, 8: 0.0018, 9: 0.0017, 10: 0.0016, 11: 0.0015, 12: 0.1464, 13: 0.0013, 14: 0.1188, 15: 0.0012, 16: 0.0012, 17: 0.0011, 18: 0.0011, 19: 0.001, 20: 0.1493, 21: 0.001, 22: 0.0009, 23: 0.0009, 24: 0.0009, 25: 0.0008, 26: 0.0008, 27: 0.0008, 28: 0.0008, 29: 0.0007, 30: 0.0007, 31: 0.0007, 32: 0.1068, 33: 0.0007, 34: 0.0007, 35: 0.1704, 36: 0.0006, 37: 0.1178, 38: 0.0006, 39: 0.0006, 40: 0.0006, 41: 0.1411, 42: 0.0005, 43: 0.0005}\n",
            "\n",
            "Documento 10 Distribución de Temas: {0: 0.0031, 1: 0.0027, 2: 0.0024, 3: 0.0021, 4: 0.0019, 5: 0.0018, 6: 0.0016, 7: 0.0015, 8: 0.0014, 9: 0.0013, 10: 0.0012, 11: 0.0012, 12: 0.113, 13: 0.0011, 14: 0.001, 15: 0.001, 16: 0.0009, 17: 0.0009, 18: 0.0008, 19: 0.3439, 20: 0.105, 21: 0.0007, 22: 0.0007, 23: 0.0007, 24: 0.0007, 25: 0.0007, 26: 0.0006, 27: 0.0006, 28: 0.0006, 29: 0.0006, 30: 0.0006, 31: 0.0006, 32: 0.0783, 33: 0.0005, 34: 0.0005, 35: 0.1322, 36: 0.0005, 37: 0.0924, 38: 0.0005, 39: 0.0005, 40: 0.0004, 41: 0.0963, 42: 0.0004, 43: 0.0004}\n",
            "\n",
            "Documento 11 Distribución de Temas: {0: 0.004, 1: 0.0035, 2: 0.0031, 3: 0.0027, 4: 0.0025, 5: 0.0023, 6: 0.0021, 7: 0.0019, 8: 0.0018, 9: 0.0017, 10: 0.0016, 11: 0.0015, 12: 0.1406, 13: 0.0013, 14: 0.0013, 15: 0.0012, 16: 0.0012, 17: 0.0011, 18: 0.0011, 19: 0.001, 20: 0.0827, 21: 0.001, 22: 0.0009, 23: 0.0009, 24: 0.0009, 25: 0.0008, 26: 0.0008, 27: 0.0008, 28: 0.0008, 29: 0.0007, 30: 0.0007, 31: 0.0007, 32: 0.0809, 33: 0.0007, 34: 0.0007, 35: 0.1395, 36: 0.0006, 37: 0.0842, 38: 0.0006, 39: 0.3315, 40: 0.0006, 41: 0.0904, 42: 0.0005, 43: 0.0005}\n",
            "\n",
            "Documento 12 Distribución de Temas: {0: 0.004, 1: 0.0035, 2: 0.0031, 3: 0.0027, 4: 0.0025, 5: 0.0023, 6: 0.0021, 7: 0.0019, 8: 0.0018, 9: 0.0017, 10: 0.0016, 11: 0.0015, 12: 0.1472, 13: 0.0013, 14: 0.0013, 15: 0.0012, 16: 0.0012, 17: 0.0011, 18: 0.0011, 19: 0.001, 20: 0.0896, 21: 0.001, 22: 0.0009, 23: 0.0009, 24: 0.0009, 25: 0.2693, 26: 0.0008, 27: 0.0008, 28: 0.0008, 29: 0.0007, 30: 0.0007, 31: 0.0007, 32: 0.0845, 33: 0.0007, 34: 0.0007, 35: 0.1372, 36: 0.0006, 37: 0.0859, 38: 0.0006, 39: 0.0006, 40: 0.0006, 41: 0.1365, 42: 0.0005, 43: 0.0005}\n",
            "\n",
            "Documento 13 Distribución de Temas: {0: 0.0029, 1: 0.0025, 2: 0.0022, 3: 0.002, 4: 0.0018, 5: 0.0016, 6: 0.0015, 7: 0.0014, 8: 0.0013, 9: 0.0012, 10: 0.0011, 11: 0.0011, 12: 0.001, 13: 0.001, 14: 0.0009, 15: 0.0009, 16: 0.0008, 17: 0.0008, 18: 0.0008, 19: 0.0007, 20: 0.0007, 21: 0.0007, 22: 0.0007, 23: 0.0006, 24: 0.0006, 25: 0.0006, 26: 0.0006, 27: 0.0006, 28: 0.0006, 29: 0.0005, 30: 0.0005, 31: 0.0005, 32: 0.0005, 33: 0.0005, 34: 0.0005, 35: 0.1999, 36: 0.2554, 37: 0.0004, 38: 0.0004, 39: 0.1627, 40: 0.0004, 41: 0.3438, 42: 0.0004, 43: 0.0004}\n",
            "\n",
            "Documento 14 Distribución de Temas: {0: 0.0465, 1: 0.0026, 2: 0.1411, 3: 0.0021, 4: 0.0019, 5: 0.0017, 6: 0.0016, 7: 0.0015, 8: 0.0014, 9: 0.0013, 10: 0.0012, 11: 0.0011, 12: 0.0011, 13: 0.001, 14: 0.001, 15: 0.0009, 16: 0.0009, 17: 0.0008, 18: 0.0008, 19: 0.0008, 20: 0.0007, 21: 0.0007, 22: 0.0007, 23: 0.0007, 24: 0.0006, 25: 0.0006, 26: 0.0006, 27: 0.0006, 28: 0.0006, 29: 0.0006, 30: 0.0005, 31: 0.0005, 32: 0.0005, 33: 0.0005, 34: 0.0005, 35: 0.2295, 36: 0.2355, 37: 0.0005, 38: 0.0004, 39: 0.0004, 40: 0.0004, 41: 0.3124, 42: 0.0004, 43: 0.0004}\n"
          ]
        }
      ]
    },
    {
      "cell_type": "code",
      "source": [
        "import numpy as np\n",
        "import gensim\n",
        "from gensim.models.coherencemodel import CoherenceModel\n",
        "import matplotlib.pyplot as plt\n",
        "\n",
        "# Función para maximizar coherencia\n",
        "def compute_coherence_values(dictionary, corpus, texts, limit, start=2, step=3):\n",
        "    coherence_values = []\n",
        "    model_list = []\n",
        "    for num_topics in range(start, limit, step):\n",
        "        model = gensim.models.LdaMulticore(corpus=corpus, num_topics=num_topics, id2word=dictionary, passes=10, workers=2, alpha='asymmetric', eta=0.01)\n",
        "        model_list.append(model)\n",
        "        coherencemodel = CoherenceModel(model=model, texts=texts, dictionary=dictionary, coherence='c_v')\n",
        "        coherence_values.append(coherencemodel.get_coherence())\n",
        "\n",
        "    return model_list, coherence_values\n",
        "\n",
        "# Definir el rango para el número de temas\n",
        "topic_limit = 100\n",
        "topic_start = 2\n",
        "topic_step = 6\n",
        "\n",
        "model_list, coherence_values = compute_coherence_values(dictionary=dictionary, corpus=corpus, texts=processed_docs, start=topic_start, limit=topic_limit, step=topic_step)\n",
        "\n",
        "# Graficar\n",
        "x = range(topic_start, topic_limit, topic_step)\n",
        "plt.plot(x, coherence_values)\n",
        "plt.xlabel(\"Número de Temas\")\n",
        "plt.ylabel(\"Coherencia del tema\")\n",
        "plt.legend((\"coherence_values\"), loc='best')\n",
        "plt.show()\n",
        "\n",
        "# Imprimir el número óptimo de temas\n",
        "optimal_index = coherence_values.index(max(coherence_values))\n",
        "optimal_num_topics = x[optimal_index]\n",
        "print(\"Número óptimo de temas:\", optimal_num_topics)\n"
      ],
      "metadata": {
        "colab": {
          "base_uri": "https://localhost:8080/",
          "height": 521
        },
        "id": "4TduPtyto5X6",
        "outputId": "66b02d7d-3882-4b21-ce92-796413bbc98f"
      },
      "execution_count": null,
      "outputs": [
        {
          "metadata": {
            "tags": null
          },
          "name": "stderr",
          "output_type": "stream",
          "text": [
            "/usr/local/lib/python3.10/dist-packages/ipykernel/ipkernel.py:283: DeprecationWarning: `should_run_async` will not call `transform_cell` automatically in the future. Please pass the result to `transformed_cell` argument and any exception that happen during thetransform in `preprocessing_exc_tuple` in IPython 7.17 and above.\n",
            "  and should_run_async(code)\n"
          ]
        },
        {
          "output_type": "display_data",
          "data": {
            "text/plain": [
              "<Figure size 640x480 with 1 Axes>"
            ],
            "image/png": "[encoded data removed]"
          },
          "metadata": {}
        },
        {
          "output_type": "stream",
          "name": "stdout",
          "text": [
            "Número óptimo de temas: 44\n"
          ]
        }
      ]
    }
  ]
}
